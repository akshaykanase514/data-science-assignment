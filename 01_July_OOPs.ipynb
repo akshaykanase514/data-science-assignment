{
  "nbformat": 4,
  "nbformat_minor": 0,
  "metadata": {
    "colab": {
      "provenance": []
    },
    "kernelspec": {
      "name": "python3",
      "display_name": "Python 3"
    },
    "language_info": {
      "name": "python"
    }
  },
  "cells": [
    {
      "cell_type": "markdown",
      "source": [
        "What is the primary goal of Object-Oriented Programming (OOP)?\n",
        "\n",
        "The primary goal of Object-Oriented Programming (OOP) is to design software in a way that models real-world entities and their interactions. OOP is based on the concept of \"objects,\" which are instances of classes that encapsulate data and behavior. The key principles of OOP include:\n",
        "\n",
        "Encapsulation: This involves bundling the data (attributes) and the methods (functions or procedures) that operate on the data into a single unit called a class. Encapsulation helps in hiding the internal details of an object and exposing only what is necessary.\n",
        "\n",
        "Inheritance: This allows a new class (subclass or derived class) to inherit attributes and methods from an existing class (base class or superclass). Inheritance promotes code reuse and the creation of a hierarchy of classes, facilitating the organization of code in a more structured manner.\n",
        "\n",
        "Polymorphism: This refers to the ability of objects to take on multiple forms. Polymorphism allows objects of different classes to be treated as objects of a common base class, and it enables code to work with objects in a more generic way.\n",
        "\n",
        "Abstraction: Abstraction involves simplifying complex systems by modeling classes based on the essential features relevant to the program. It allows developers to focus on the necessary details while ignoring irrelevant complexities."
      ],
      "metadata": {
        "id": "oHCTJR12RWV_"
      }
    },
    {
      "cell_type": "markdown",
      "source": [
        "What is an object in Python?\n",
        "\n",
        "\n",
        "An object is a fundamental concept that represents a real-world entity or a software construct. Everything in Python is an object, including integers, strings, lists, functions, and even classes. Each object has a type and can be manipulated using methods specific to that type"
      ],
      "metadata": {
        "id": "puTNVaMbRuak"
      }
    },
    {
      "cell_type": "markdown",
      "source": [
        "What is a class in Python?\n",
        "\n",
        "A class is a blueprint for creating objects. It defines a data structure that encapsulates both data (attributes) and the methods (functions) that operate on that data. Objects are instances of classes, and each object created from a class is unique, with its own set of attributes and behaviors."
      ],
      "metadata": {
        "id": "973eSQZIRvj4"
      }
    },
    {
      "cell_type": "markdown",
      "source": [
        "What are attributes and methods in a class?\n",
        "\n",
        "- **Attributes:** Attributes are variables within a class that store data, representing the characteristics or properties of objects instantiated from that class.\n",
        "\n",
        "- **Methods:** Methods are functions defined within a class that specify the behavior of objects instantiated from that class. They operate on the object's data (attributes) and perform actions associated with the object."
      ],
      "metadata": {
        "id": "uy4ulJx9Sy_q"
      }
    },
    {
      "cell_type": "markdown",
      "source": [
        "What is the difference between class variables and instance variables in Python?\n",
        "\n",
        "Class variables are shared among all instances of a class and are defined outside of any instance methods.\n",
        "Instance variables are specific to each instance of a class and are defined within the class's methods, usually in the constructor."
      ],
      "metadata": {
        "id": "KcDMhEsRS5tG"
      }
    },
    {
      "cell_type": "markdown",
      "source": [
        "What is the purpose of the self parameter in Python class methods?\n",
        "\n",
        " The self parameter in class methods serves as a reference to the instance of the class upon which the method is called. This convention allows the method to access and manipulate the unique attributes and methods of the instance. By using self, the method gains the ability to interact with instance variables, class variables, and other methods associated with the instance. It is essentially a way to distinguish instance-specific data and behaviors within the class. The self parameter plays a crucial role in encapsulating the functionality of objects and promoting the principles of object-oriented programming by ensuring that methods operate on the correct instance of the class. While other names could technically be used in place of self, adhering to this convention enhances code clarity and maintains consistency across Python classes."
      ],
      "metadata": {
        "id": "XZEzd_ctW7b5"
      }
    },
    {
      "cell_type": "code",
      "source": [],
      "metadata": {
        "id": "MZaROM87Zw2F"
      },
      "execution_count": null,
      "outputs": []
    },
    {
      "cell_type": "markdown",
      "source": [
        "For a library management system, you have to design the \"Book\" class with OOP\n",
        "principles in mind. The “Book” class will have following attributes:\n",
        "\n",
        "a. title: Represents the title of the book.\n",
        "\n",
        "b. author: Represents the author(s) of the book.\n",
        "\n",
        "c. isbn: Represents the ISBN (International Standard Book Number) of the book.\n",
        "\n",
        "d. publication_year: Represents the year of publication of the book.\n",
        "\n",
        "e. available_copies: Represents the number of copies available for checkout.\n",
        "\n",
        "The class will also include the following methods:\n",
        "\n",
        "a. check_out(self): Decrements the available copies by one if there are copies\n",
        "available for checkout.\n",
        "\n",
        "b. return_book(self): Increments the available copies by one when a book is\n",
        "returned.\n",
        "\n",
        "c. display_book_info(self): Displays the information about the book, including its\n",
        "attributes and the number of available copies.\n"
      ],
      "metadata": {
        "id": "rzSBK9B7YsAv"
      }
    },
    {
      "cell_type": "markdown",
      "source": [],
      "metadata": {
        "id": "mEg1RuwnSBiv"
      }
    },
    {
      "cell_type": "code",
      "execution_count": 2,
      "metadata": {
        "id": "YeSgXxLyPzbH"
      },
      "outputs": [],
      "source": [
        "class Book:\n",
        "  '''Book class for the library management'''\n",
        "\n",
        "  def __init__(self, title, author, isbn, pub_year, stock):\n",
        "    self.title = title\n",
        "    self.author = author\n",
        "    self.isbn = isbn\n",
        "    self.publication_year = pub_year\n",
        "    self.available_copies = stock\n",
        "\n",
        "  def checkout(self):\n",
        "    '''This method decrements the available copies by one if there are copies available for checkout'''\n",
        "    self.available_copies -= 1\n",
        "    return self.available_copies\n",
        "\n",
        "  def return_book(self):\n",
        "    '''This function increments the available copies by one when a book is returned.'''\n",
        "    self.available_copies += 1\n",
        "    return self.available_copies\n",
        "\n",
        "  def display_book_info(self):\n",
        "    '''Displays the information about the book, including its attributes and the number of available copies.'''\n",
        "    return f\"\"\"Book Info /n\n",
        "Title - {self.title} /n\n",
        "Author - {self.author} /n\n",
        "ISBN No - {self.isbn} /n\n",
        "Publication year - {self.publication_year} /n\n",
        "Available Copies - {self.available_copies} /n\n",
        "\"\"\""
      ]
    },
    {
      "cell_type": "markdown",
      "source": [
        "8. For a ticket booking system, you have to design the \"Ticket\" class with OOP\n",
        "principles in mind. The “Ticket” class should have the following attributes:\n",
        "\n",
        "a. ticket_id: Represents the unique identifier for the ticket.\n",
        "\n",
        "b. event_name: Represents the name of the event.\n",
        "\n",
        "c. event_date: Represents the date of the event.\n",
        "\n",
        "d. venue: Represents the venue of the event.\n",
        "\n",
        "e. seat_number: Represents the seat number associated with the ticket.\n",
        "\n",
        "f. price: Represents the price of the ticket.\n",
        "\n",
        "g. is_reserved: Represents the reservation status of the ticket.\n",
        "\n",
        "The class also includes the following methods:\n",
        "\n",
        "a. reserve_ticket(self): Marks the ticket as reserved if it is not already reserved.\n",
        "\n",
        "b. cancel_reservation(self): Cancels the reservation of the ticket if it is already\n",
        "reserved.\n",
        "\n",
        "c. display_ticket_info(self): Displays the information about the ticket, including its\n",
        "attributes and reservation status.\n"
      ],
      "metadata": {
        "id": "li_NKzlfcRvv"
      }
    },
    {
      "cell_type": "code",
      "source": [
        "class Ticket:\n",
        "    def __init__(self, ticket_id, event_name, event_date, venue, seat_number, price):\n",
        "        self.ticket_id = ticket_id\n",
        "        self.event_name = event_name\n",
        "        self.event_date = event_date\n",
        "        self.venue = venue\n",
        "        self.seat_number = seat_number\n",
        "        self.price = price\n",
        "        self.is_reserved = False\n",
        "\n",
        "    def reserve_ticket(self):\n",
        "        if not self.is_reserved:\n",
        "            self.is_reserved = True\n",
        "            return f\"Ticket {self.ticket_id} for {self.event_name} is now reserved.\"\n",
        "        else:\n",
        "            return f\"This ticket is already reserved.\"\n",
        "\n",
        "    def cancel_reservation(self):\n",
        "        if self.is_reserved:\n",
        "            self.is_reserved = False\n",
        "            return f\"Reservation for Ticket {self.ticket_id} has been canceled.\"\n",
        "        else:\n",
        "            return f\"This ticket is not currently reserved.\"\n",
        "\n",
        "    def display_ticket_info(self):\n",
        "        return f\"\"\"Ticket ID: {self.ticket_id},\n",
        "        \\n Event Name: {self.event_name},\n",
        "        \\n Event Date: {self.event_date},\n",
        "        \\n Venue: {self.venue},\n",
        "        \\n Seat Number: {self.seat_number},\n",
        "        \\n Price: Rs {self.price},\n",
        "        \\n Reservation Status: {'Reserved' if self.is_reserved else 'Not Reserved'}\"\"\"\n"
      ],
      "metadata": {
        "id": "H-yuD0SRcaki"
      },
      "execution_count": null,
      "outputs": []
    },
    {
      "cell_type": "markdown",
      "source": [
        "9. You are creating a shopping cart for an e-commerce website. Using OOP to model\n",
        "the \"ShoppingCart\" functionality the class should contain following attributes and\n",
        "methods:\n",
        "\n",
        "a. items: Represents the list of items in the shopping cart.\n",
        "The class also includes the following methods:\n",
        "\n",
        "\n",
        "a. add_item(self, item): Adds an item to the shopping cart by appending it to the\n",
        "list of items.\n",
        "\n",
        "b. remove_item(self, item): Removes an item from the shopping cart if it exists in\n",
        "the list.\n",
        "\n",
        "c. view_cart(self): Displays the items currently present in the shopping cart.\n",
        "\n",
        "d. clear_cart(self): Clears all items from the shopping cart by reassigning an\n",
        "empty list to the items attribute.\n"
      ],
      "metadata": {
        "id": "bGBaa2aGd2e3"
      }
    },
    {
      "cell_type": "code",
      "source": [
        "class ShoppingCart:\n",
        "    def __init__(self):\n",
        "        self.items = []\n",
        "\n",
        "    def add_item(self, item):\n",
        "        self.items.append(item)\n",
        "        print(f\"Item '{item}' added to the shopping cart.\")\n",
        "\n",
        "    def remove_item(self, item):\n",
        "        if item in self.items:\n",
        "            self.items.remove(item)\n",
        "            print(f\"Item '{item}' removed from the shopping cart.\")\n",
        "        else:\n",
        "            print(f\"Item '{item}' is not in the shopping cart.\")\n",
        "\n",
        "    def view_cart(self):\n",
        "        if not self.items:\n",
        "            print(\"The shopping cart is empty.\")\n",
        "        else:\n",
        "            print(\"Items in the shopping cart:\")\n",
        "            for item in self.items:\n",
        "                print(f\"- {item}\")\n",
        "\n",
        "    def clear_cart(self):\n",
        "        self.items = []\n",
        "        print(\"Shopping cart cleared.\")\n",
        "\n",
        "# Example usage:\n",
        "cart = ShoppingCart()\n",
        "\n",
        "cart.add_item(\"Laptop\")\n",
        "cart.add_item(\"Headphones\")\n",
        "cart.add_item(\"Mouse\")\n",
        "cart.view_cart()\n",
        "\n",
        "cart.remove_item(\"Laptop\")\n",
        "cart.view_cart()\n",
        "\n",
        "cart.clear_cart()\n",
        "cart.view_cart()\n"
      ],
      "metadata": {
        "id": "4r9x3eqneALx"
      },
      "execution_count": null,
      "outputs": []
    },
    {
      "cell_type": "markdown",
      "source": [
        "10. Imagine a school management system. You have to design the \"Student\" class using\n",
        "OOP concepts.The “Student” class has the following attributes:\n",
        "\n",
        "a. name: Represents the name of the student.\n",
        "\n",
        "b. age: Represents the age of the student.\n",
        "\n",
        "c. grade: Represents the grade or class of the student.\n",
        "\n",
        "d. student_id: Represents the unique identifier for the student.\n",
        "\n",
        "e. attendance: Represents the attendance record of the student.\n",
        "\n",
        "The class should also include the following methods:\n",
        "\n",
        "a. update_attendance(self, date, status): Updates the attendance record of the\n",
        "student for a given date with the provided status (e.g., present or absent).\n",
        "\n",
        "b. get_attendance(self): Returns the attendance record of the student.\n",
        "\n",
        "c. get_average_attendance(self): Calculates and returns the average\n",
        "attendance percentage of the student based on their attendance record.\n"
      ],
      "metadata": {
        "id": "GTmzLFKgeuwY"
      }
    },
    {
      "cell_type": "code",
      "source": [
        "class Student:\n",
        "    def __init__(self, name, age, grade, student_id):\n",
        "        self.name = name\n",
        "        self.age = age\n",
        "        self.grade = grade\n",
        "        self.student_id = student_id\n",
        "        self.attendance = {}  # Attendance record represented as a dictionary\n",
        "\n",
        "    def update_attendance(self, date, status):\n",
        "        if date in self.attendance:\n",
        "            print(\"Attendance for this date has already been recorded.\")\n",
        "        else:\n",
        "            self.attendance[date] = status\n",
        "            print(f\"Attendance for {self.name} on {date}: {status}\")\n",
        "\n",
        "    def get_attendance(self):\n",
        "        return self.attendance\n",
        "\n",
        "    def get_average_attendance(self):\n",
        "        if not self.attendance:\n",
        "            return 0.0\n",
        "\n",
        "        total_days = len(self.attendance)\n",
        "        present_days = sum(status == 'present' for status in self.attendance.values())\n",
        "        average_attendance = (present_days / total_days) * 100\n",
        "        return round(average_attendance, 2)\n",
        "\n",
        "# Example usage:\n",
        "student1 = Student(name=\"Alice\", age=15, grade=10, student_id=\"S001\")\n",
        "\n",
        "student1.update_attendance(\"2023-01-10\", \"present\")\n",
        "student1.update_attendance(\"2023-01-15\", \"absent\")\n",
        "\n",
        "attendance_record = student1.get_attendance()\n",
        "print(f\"{student1.name}'s attendance record: {attendance_record}\")\n",
        "\n",
        "average_attendance = student1.get_average_attendance()\n",
        "print(f\"{student1.name}'s average attendance: {average_attendance}%\")\n"
      ],
      "metadata": {
        "colab": {
          "base_uri": "https://localhost:8080/"
        },
        "id": "ztelOlUpeuij",
        "outputId": "6fb36e1d-e6f1-4d49-c192-964c7bd1af06"
      },
      "execution_count": 5,
      "outputs": [
        {
          "output_type": "stream",
          "name": "stdout",
          "text": [
            "Attendance for Alice on 2023-01-10: present\n",
            "Attendance for Alice on 2023-01-15: absent\n",
            "Alice's attendance record: {'2023-01-10': 'present', '2023-01-15': 'absent'}\n",
            "Alice's average attendance: 50.0%\n"
          ]
        }
      ]
    }
  ]
}