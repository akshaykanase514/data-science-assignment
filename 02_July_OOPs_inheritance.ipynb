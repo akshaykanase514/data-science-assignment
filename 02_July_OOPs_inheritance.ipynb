{
  "nbformat": 4,
  "nbformat_minor": 0,
  "metadata": {
    "colab": {
      "provenance": []
    },
    "kernelspec": {
      "name": "python3",
      "display_name": "Python 3"
    },
    "language_info": {
      "name": "python"
    }
  },
  "cells": [
    {
      "cell_type": "markdown",
      "source": [
        "1. Explain what inheritance is in object-oriented programming and why it is used.\n",
        "\n",
        "In object-oriented programming, inheritance is a fundamental concept that enables a class to inherit attributes and behaviors from another class, known as the superclass or base class. The class inheriting these features is referred to as the subclass or derived class. Inheritance promotes code reuse by allowing the subclass to access and extend the functionalities of the superclass. This relationship establishes a hierarchical structure among classes, reflecting specialized and generalized relationships. The derived class can override methods of the base class to provide its own implementation, allowing for customization and flexibility. Inheritance also supports the polymorphic principle, where objects of the subclass can be treated as instances of the superclass, enhancing code design and facilitating a more modular and maintainable codebase. Overall, inheritance is a powerful mechanism in OOP that enhances modularity, flexibility, and code organization.\n",
        "\n"
      ],
      "metadata": {
        "id": "kxjZQbLHs8Ug"
      }
    },
    {
      "cell_type": "markdown",
      "source": [
        "2. Discuss the concept of single inheritance and multiple inheritance, highlighting their\n",
        "differences and advantages.\n",
        "\n",
        "In object-oriented programming, inheritance can be categorized into two main types: single inheritance and multiple inheritance.\n",
        "\n",
        "**Single Inheritance:**\n",
        "In single inheritance, a class can inherit from only one superclass. This means that a subclass can extend the functionality of a single base class, creating a linear hierarchy. Single inheritance simplifies the class structure, making it more straightforward and easier to understand. It encourages a clear and concise hierarchy of relationships among classes. However, it may lead to limitations in scenarios where a class needs to inherit functionalities from multiple sources.\n",
        "\n",
        "**Multiple Inheritance:**\n",
        "In contrast, multiple inheritance allows a class to inherit from more than one superclass. This provides greater flexibility by enabling a subclass to inherit attributes and methods from multiple parent classes. While this can be a powerful tool for code reuse, it introduces challenges such as the potential for ambiguity when a method or attribute is defined in multiple parent classes. Proper care and design are necessary to manage such situations and avoid conflicts.\n",
        "\n",
        "The choice between single and multiple inheritance depends on the specific requirements of the software design. Single inheritance is often favored for its simplicity and ease of maintenance, while multiple inheritance offers greater flexibility and the ability to model more complex relationships. Both approaches have their advantages and trade-offs, and the selection depends on the specific needs of the application and the desired level of abstraction and hierarchy in the class structure."
      ],
      "metadata": {
        "id": "VP9aZ9pUtqxd"
      }
    },
    {
      "cell_type": "markdown",
      "source": [
        "3. Explain the terms \"base class\" and \"derived class\" in the context of inheritance.\n",
        "\n",
        "In the realm of object-oriented programming, the terms \"base class\" and \"derived class\" describe the hierarchical relationship between two classes engaged in inheritance. The base class serves as a blueprint or template, encapsulating common attributes and methods that are intended to be inherited by other classes. It establishes a foundation of shared functionalities that can be reused across the program. On the other hand, the derived class, also known as the subclass or child class, inherits these attributes and methods from the base class and has the flexibility to extend, customize, or override them to meet specific requirements. This relationship is fundamental in promoting code reuse and maintaining a clear and organized class hierarchy. The base class provides a generalized structure, while the derived class refines and specializes it, forming an \"is-a\" relationship where an object of the derived class is also considered an object of the base class."
      ],
      "metadata": {
        "id": "a43gFCP7t5Fl"
      }
    },
    {
      "cell_type": "markdown",
      "source": [
        "4. What is the significance of the \"protected\" access modifier in inheritance? How does\n",
        "it differ from \"private\" and \"public\" modifiers?\n",
        "\n",
        "In object-oriented programming, the \"protected\" access modifier plays a crucial role in balancing the encapsulation and inheritance principles. When a member (attribute or method) of a class is declared as \"protected,\" it is accessible within the class itself and by its subclasses. This ensures that the member is not directly accessible from outside the class hierarchy, maintaining a level of encapsulation. The \"protected\" modifier provides a middle ground between the more restrictive \"private\" access (accessible only within the class) and the less restrictive \"public\" access (accessible from anywhere). While \"private\" members are entirely hidden from subclasses, and \"public\" members are fully exposed to all, \"protected\" members enable selective sharing of implementation details with derived classes. This allows for controlled access and modification, fostering the design of robust and extensible class hierarchies. The use of \"protected\" access is particularly beneficial when certain attributes or methods are intended for internal use within the class and its subclasses, contributing to a well-organized and maintainable codebase."
      ],
      "metadata": {
        "id": "z9y_RjuOuJBw"
      }
    },
    {
      "cell_type": "markdown",
      "source": [
        "5. What is the purpose of the \"super\" keyword in inheritance? Provide an example.\n",
        "\n",
        "The \"super\" keyword is particularly useful when a method in the subclass overrides a method in the superclass, and the overridden method in the superclass needs to be called explicitly. This helps in maintaining and reusing the functionality of the superclass while extending or customizing it in the subclass.\n"
      ],
      "metadata": {
        "id": "fk9ZJ30yvKpN"
      }
    },
    {
      "cell_type": "code",
      "execution_count": 1,
      "metadata": {
        "colab": {
          "base_uri": "https://localhost:8080/"
        },
        "id": "QgCInCALsnRI",
        "outputId": "c38ce7d8-493d-408c-ebc4-98ced42f6202"
      },
      "outputs": [
        {
          "output_type": "stream",
          "name": "stdout",
          "text": [
            "Buddy (Labrador) says: Generic animal sound, but a dog barks!\n"
          ]
        }
      ],
      "source": [
        "class Animal:\n",
        "    def __init__(self, name):\n",
        "        self.name = name\n",
        "\n",
        "    def make_sound(self):\n",
        "        return \"Generic animal sound\"\n",
        "\n",
        "class Dog(Animal):\n",
        "    def __init__(self, name, breed):\n",
        "        super().__init__(name)\n",
        "        self.breed = breed\n",
        "\n",
        "    def make_sound(self):\n",
        "        # Call the overridden method in the superclass\n",
        "        return super().make_sound() + \", but a dog barks!\"\n",
        "\n",
        "# Example usage:\n",
        "dog = Dog(name=\"Buddy\", breed=\"Labrador\")\n",
        "print(f\"{dog.name} ({dog.breed}) says: {dog.make_sound()}\")\n"
      ]
    },
    {
      "cell_type": "markdown",
      "source": [
        "6. Create a base class called \"Vehicle\" with attributes like \"make\", \"model\", and \"year\".\n",
        "Then, create a derived class called \"Car\" that inherits from \"Vehicle\" and adds an\n",
        "attribute called \"fuel_type\". Implement appropriate methods in both classes."
      ],
      "metadata": {
        "id": "YWY3w03Cy0pl"
      }
    },
    {
      "cell_type": "code",
      "source": [
        "class Vehicle:\n",
        "    def __init__(self, make, model, year):\n",
        "        self.make = make\n",
        "        self.model = model\n",
        "        self.year = year\n",
        "\n",
        "    def display_info(self):\n",
        "        print(f\"Make: {self.make}\")\n",
        "        print(f\"Model: {self.model}\")\n",
        "        print(f\"Year: {self.year}\")\n",
        "\n",
        "class Car(Vehicle):\n",
        "    def __init__(self, make, model, year, fuel_type):\n",
        "        super().__init__(make, model, year)\n",
        "        self.fuel_type = fuel_type\n",
        "\n",
        "    def display_info(self):\n",
        "        super().display_info()\n",
        "        print(f\"Fuel Type: {self.fuel_type}\")\n",
        "\n",
        "# Example usage:\n",
        "vehicle1 = Vehicle(make=\"Toyota\", model=\"Camry\", year=2022)\n",
        "vehicle1.display_info()\n",
        "\n",
        "print()  # Adding a newline for better output separation\n",
        "\n",
        "car1 = Car(make=\"Tesla\", model=\"Model 3\", year=2023, fuel_type=\"Electric\")\n",
        "car1.display_info()\n"
      ],
      "metadata": {
        "id": "Ct3cxmoWy1av"
      },
      "execution_count": null,
      "outputs": []
    },
    {
      "cell_type": "markdown",
      "source": [
        "7. Create a base class called \"Employee\" with attributes like \"name\" and \"salary.\"\n",
        "Derive two classes, \"Manager\" and \"Developer,\" from \"Employee.\" Add an additional\n",
        "attribute called \"department\" for the \"Manager\" class and \"programming_language\"\n",
        "for the \"Developer\" class."
      ],
      "metadata": {
        "id": "RDHDrpiJzHwX"
      }
    },
    {
      "cell_type": "code",
      "source": [
        "class Employee:\n",
        "    def __init__(self, name, salary):\n",
        "        self.name = name\n",
        "        self.salary = salary\n",
        "\n",
        "    def display_info(self):\n",
        "        print(f\"Name: {self.name}\")\n",
        "        print(f\"Salary: ${self.salary}\")\n",
        "\n",
        "class Manager(Employee):\n",
        "    def __init__(self, name, salary, department):\n",
        "        super().__init__(name, salary)\n",
        "        self.department = department\n",
        "\n",
        "    def display_info(self):\n",
        "        super().display_info()\n",
        "        print(f\"Department: {self.department}\")\n",
        "\n",
        "class Developer(Employee):\n",
        "    def __init__(self, name, salary, programming_language):\n",
        "        super().__init__(name, salary)\n",
        "        self.programming_language = programming_language\n",
        "\n",
        "    def display_info(self):\n",
        "        super().display_info()\n",
        "        print(f\"Programming Language: {self.programming_language}\")\n",
        "\n",
        "# Example usage:\n",
        "employee1 = Employee(name=\"John Doe\", salary=60000)\n",
        "employee1.display_info()\n",
        "\n",
        "print()  # Adding a newline for better output separation\n",
        "\n",
        "manager1 = Manager(name=\"Alice Smith\", salary=80000, department=\"IT Management\")\n",
        "manager1.display_info()\n",
        "\n",
        "print()  # Adding a newline for better output separation\n",
        "\n",
        "developer1 = Developer(name=\"Bob Johnson\", salary=70000, programming_language=\"Python\")\n",
        "developer1.display_info()\n"
      ],
      "metadata": {
        "id": "nlinEwAP0Nlj"
      },
      "execution_count": null,
      "outputs": []
    },
    {
      "cell_type": "markdown",
      "source": [
        "8. Design a base class called \"Shape\" with attributes like \"colour\" and \"border_width.\"\n",
        "Create derived classes, \"Rectangle\" and \"Circle,\" that inherit from \"Shape\" and add\n",
        "specific attributes like \"length\" and \"width\" for the \"Rectangle\" class and \"radius\" for\n",
        "the \"Circle\" class."
      ],
      "metadata": {
        "id": "X6sGQGhE0VI9"
      }
    },
    {
      "cell_type": "code",
      "source": [
        "class Shape:\n",
        "    def __init__(self, colour, border_width):\n",
        "        self.colour = colour\n",
        "        self.border_width = border_width\n",
        "\n",
        "    def display_info(self):\n",
        "        print(f\"Colour: {self.colour}\")\n",
        "        print(f\"Border Width: {self.border_width}\")\n",
        "\n",
        "class Rectangle(Shape):\n",
        "    def __init__(self, colour, border_width, length, width):\n",
        "        super().__init__(colour, border_width)\n",
        "        self.length = length\n",
        "        self.width = width\n",
        "\n",
        "    def display_info(self):\n",
        "        super().display_info()\n",
        "        print(f\"Length: {self.length}\")\n",
        "        print(f\"Width: {self.width}\")\n",
        "\n",
        "class Circle(Shape):\n",
        "    def __init__(self, colour, border_width, radius):\n",
        "        super().__init__(colour, border_width)\n",
        "        self.radius = radius\n",
        "\n",
        "    def display_info(self):\n",
        "        super().display_info()\n",
        "        print(f\"Radius: {self.radius}\")\n",
        "\n",
        "# Example usage:\n",
        "rectangle1 = Rectangle(colour=\"Blue\", border_width=2, length=5, width=3)\n",
        "rectangle1.display_info()\n",
        "\n",
        "print()  # Adding a newline for better output separation\n",
        "\n",
        "circle1 = Circle(colour=\"Red\", border_width=1, radius=4)\n",
        "circle1.display_info()\n"
      ],
      "metadata": {
        "id": "QO4KW6T_0ZAQ"
      },
      "execution_count": null,
      "outputs": []
    },
    {
      "cell_type": "markdown",
      "source": [
        "9. Create a base class called \"Device\" with attributes like \"brand\" and \"model.\" Derive\n",
        "two classes, \"Phone\" and \"Tablet,\" from \"Device.\" Add specific attributes like\n",
        "\"screen_size\" for the \"Phone\" class and \"battery_capacity\" for the \"Tablet\" class."
      ],
      "metadata": {
        "id": "0_vOPoew0hFO"
      }
    },
    {
      "cell_type": "code",
      "source": [
        "class Device:\n",
        "    def __init__(self, brand, model):\n",
        "        self.brand = brand\n",
        "        self.model = model\n",
        "\n",
        "    def display_info(self):\n",
        "        print(f\"Brand: {self.brand}\")\n",
        "        print(f\"Model: {self.model}\")\n",
        "\n",
        "class Phone(Device):\n",
        "    def __init__(self, brand, model, screen_size):\n",
        "        super().__init__(brand, model)\n",
        "        self.screen_size = screen_size\n",
        "\n",
        "    def display_info(self):\n",
        "        super().display_info()\n",
        "        print(f\"Screen Size: {self.screen_size}\")\n",
        "\n",
        "class Tablet(Device):\n",
        "    def __init__(self, brand, model, battery_capacity):\n",
        "        super().__init__(brand, model)\n",
        "        self.battery_capacity = battery_capacity\n",
        "\n",
        "    def display_info(self):\n",
        "        super().display_info()\n",
        "        print(f\"Battery Capacity: {self.battery_capacity}\")\n",
        "\n",
        "# Example usage:\n",
        "phone1 = Phone(brand=\"Samsung\", model=\"Galaxy S21\", screen_size=\"6.2 inches\")\n",
        "phone1.display_info()\n",
        "\n",
        "print()  # Adding a newline for better output separation\n",
        "\n",
        "tablet1 = Tablet(brand=\"Apple\", model=\"iPad Pro\", battery_capacity=\"9720 mAh\")\n",
        "tablet1.display_info()\n"
      ],
      "metadata": {
        "id": "wWpHwhC00gSw"
      },
      "execution_count": null,
      "outputs": []
    },
    {
      "cell_type": "markdown",
      "source": [
        "10. Create a base class called \"BankAccount\" with attributes like \"account_number\" and\n",
        "\"balance.\" Derive two classes, \"SavingsAccount\" and \"CheckingAccount,\" from\n",
        "\"BankAccount.\" Add specific methods like \"calculate_interest\" for the\n",
        "\"SavingsAccount\" class and \"deduct_fees\" for the \"CheckingAccount\" class."
      ],
      "metadata": {
        "id": "0rN40Z1J0lCt"
      }
    },
    {
      "cell_type": "code",
      "source": [
        "class BankAccount:\n",
        "    def __init__(self, account_number, balance):\n",
        "        self.account_number = account_number\n",
        "        self.balance = balance\n",
        "\n",
        "    def display_info(self):\n",
        "        print(f\"Account Number: {self.account_number}\")\n",
        "        print(f\"Balance: ${self.balance}\")\n",
        "\n",
        "class SavingsAccount(BankAccount):\n",
        "    def __init__(self, account_number, balance, interest_rate):\n",
        "        super().__init__(account_number, balance)\n",
        "        self.interest_rate = interest_rate\n",
        "\n",
        "    def calculate_interest(self):\n",
        "        interest = self.balance * (self.interest_rate / 100)\n",
        "        self.balance += interest\n",
        "        print(f\"Interest calculated. New balance: ${self.balance}\")\n",
        "\n",
        "class CheckingAccount(BankAccount):\n",
        "    def __init__(self, account_number, balance, fee_per_transaction):\n",
        "        super().__init__(account_number, balance)\n",
        "        self.fee_per_transaction = fee_per_transaction\n",
        "\n",
        "    def deduct_fees(self, num_transactions):\n",
        "        fees = self.fee_per_transaction * num_transactions\n",
        "        self.balance -= fees\n",
        "        print(f\"Fees deducted. New balance: ${self.balance}\")\n",
        "\n",
        "# Example usage:\n",
        "savings_account = SavingsAccount(account_number=\"SA123\", balance=1000, interest_rate=2.5)\n",
        "savings_account.display_info()\n",
        "savings_account.calculate_interest()\n",
        "\n",
        "print()  # Adding a newline for better output separation\n",
        "\n",
        "checking_account = CheckingAccount(account_number=\"CA456\", balance=2000, fee_per_transaction=1.5)\n",
        "checking_account.display_info()\n",
        "checking_account.deduct_fees(num_transactions=3)\n"
      ],
      "metadata": {
        "id": "QtEVEXPu0oOO"
      },
      "execution_count": null,
      "outputs": []
    }
  ]
}